{
 "cells": [
  {
   "cell_type": "code",
   "execution_count": 13,
   "metadata": {},
   "outputs": [],
   "source": [
    "import pandas as pd\n",
    "import matplotlib.pyplot as plt\n",
    "import seaborn as sns\n",
    "from statannot import add_stat_annotation\n",
    "import scipy\n",
    "from scipy import stats"
   ]
  },
  {
   "cell_type": "code",
   "execution_count": 2,
   "metadata": {},
   "outputs": [
    {
     "name": "stdout",
     "output_type": "stream",
     "text": [
      "(443133, 10)\n",
      "['region', 'cons-readid', 'cons-readid-short', 'cons-NM', 'cons-YM', 'cons-YR', 'cons-align_length', 'cons-cigar', 'cons-score', 'region_readid']\n"
     ]
    }
   ],
   "source": [
    "df_cons = pd.read_csv('/hpc/compgen/projects/gw_cfdna/snv_qs/predict_cyclclean_with_lambdamodel/cycl_clean_consensus_scoreperread/cycl_clean_consensus_properties_per_read.csv')\n",
    "df_cons['region_readid'] = df_cons['region'] + '_' + df_cons['cons-readid-short']\n",
    "print(df_cons.shape)\n",
    "print(list(df_cons.columns))\n"
   ]
  },
  {
   "cell_type": "code",
   "execution_count": 3,
   "metadata": {},
   "outputs": [
    {
     "name": "stdout",
     "output_type": "stream",
     "text": [
      "(1998038, 10)\n",
      "['region', 'region_readid', 'pred-readid', 'pred-readid-short', 'pred-NM', 'pred-align_length', 'pred-cigar', 'pred-score', 'pred-model-cov', 'pred-read-cov']\n",
      "    region                                 region_readid  \\\n",
      "0  region1  region1_000dee72-385a-522e-bd98-1e5b0485e10f   \n",
      "\n",
      "                            pred-readid                     pred-readid-short  \\\n",
      "0  000dee72-385a-522e-bd98-1e5b0485e10f  000dee72-385a-522e-bd98-1e5b0485e10f   \n",
      "\n",
      "   pred-NM  pred-align_length pred-cigar  pred-score pred-model-cov  \\\n",
      "0        0                 98      4S98M         0.0           c100   \n",
      "\n",
      "  pred-read-cov  \n",
      "0            5X  \n",
      "['c100' 'c15' 'c5' 'c10' 'c20']\n",
      "['5X' '9X' '16X' '10X' '14X' '8X' '6X' '7X' '15X' '20X' '12X' '4X' '17X'\n",
      " '11X' '13X' '19X' '3X' '18X' '20+X']\n"
     ]
    }
   ],
   "source": [
    "df_pred = pd.read_csv('/hpc/compgen/projects/gw_cfdna/snv_qs/nanopore-wgs/scripts/cyclomics_clean_predict_maskedrefbase/analyse_perread/cycl_clean_predict_t2t_perread.csv')\n",
    "print(df_pred.shape)\n",
    "print(list(df_pred.columns))\n",
    "print(df_pred.head(1))\n",
    "\n",
    "print(df_pred['pred-model-cov'].unique())\n",
    "print(df_pred['pred-read-cov'].unique())"
   ]
  },
  {
   "cell_type": "code",
   "execution_count": 4,
   "metadata": {},
   "outputs": [
    {
     "name": "stdout",
     "output_type": "stream",
     "text": [
      "number of rows where region is unknown: 10\n"
     ]
    }
   ],
   "source": [
    "print(f\"number of rows where region is unknown: {df_pred.loc[ (df_pred['region'] == 'region_unknown') ].shape[0]}\")"
   ]
  },
  {
   "cell_type": "code",
   "execution_count": 36,
   "metadata": {},
   "outputs": [
    {
     "name": "stdout",
     "output_type": "stream",
     "text": [
      "original shape of cons: (443133, 12)\n",
      "original shape of pred: (1998038, 10)\n",
      "['region', 'cons-readid', 'cons-readid-short', 'cons-NM', 'cons-YM', 'cons-YR', 'cons-align_length', 'cons-cigar', 'cons-score', 'region_readid', 'pred-model-cov', 'pred-read-cov']\n",
      "['region', 'region_readid', 'pred-readid', 'pred-readid-short', 'pred-NM', 'pred-align_length', 'pred-cigar', 'pred-score', 'pred-model-cov', 'pred-read-cov']\n",
      "(443133, 5)\n",
      "(1998038, 4)\n",
      "number of reads in consensus: 443133\n",
      "number of unique reads in consensus: 440938\n",
      "number of reads in prediction: 1998038\n",
      "number of unique reads in prediction: 397643\n",
      "(381288, 5)\n",
      "(1897834, 4)\n",
      "(2279122, 5)\n",
      "Index(['region_readid', 'pred-model-cov', 'pred-read-cov', 'score', 'cons-YR'], dtype='object')\n",
      "                                  region_readid   pred-model-cov  \\\n",
      "1  region1_e911b4cc-7239-528c-af99-502c7e6a2bba  Cycas Consensus   \n",
      "2  region1_c7689329-244f-52ed-b830-23b405b66c57  Cycas Consensus   \n",
      "3  region1_0e7882fc-ac08-40b8-be2e-e25ffa42ef8d  Cycas Consensus   \n",
      "5  region1_5911c201-f699-5518-b558-73d2c0952918  Cycas Consensus   \n",
      "6  region1_f063e270-8baf-485e-b4df-6bd223c2feeb  Cycas Consensus   \n",
      "\n",
      "     pred-read-cov     score cons-YR  \n",
      "1  Cycas Consensus  0.009524       F  \n",
      "2  Cycas Consensus  0.019231       F  \n",
      "3  Cycas Consensus  0.019608       F  \n",
      "5  Cycas Consensus  0.009524       R  \n",
      "6  Cycas Consensus  0.009524       R  \n",
      "                                        region_readid pred-model-cov  \\\n",
      "1998033  region5_e02d0f22-94f4-493b-b40c-ae835ba6559b             c5   \n",
      "1998034  region5_ffad6052-620c-4d7a-89e7-56005ba75307             c5   \n",
      "1998035  region5_c91e67e6-8b1e-5bca-a821-9dca19755848             c5   \n",
      "1998036  region5_ad604060-c124-5fdb-9aa5-2bdde5518b66             c5   \n",
      "1998037  region5_c4a19f26-744b-4bca-a3e2-bc2666f5b46c             c5   \n",
      "\n",
      "        pred-read-cov  score cons-YR  \n",
      "1998033          20+X    0.0     NaN  \n",
      "1998034          20+X    0.0     NaN  \n",
      "1998035          20+X    0.0     NaN  \n",
      "1998036          20+X    0.0     NaN  \n",
      "1998037          20+X    0.0     NaN  \n"
     ]
    }
   ],
   "source": [
    "df_cons_copy = df_cons.copy()\n",
    "df_cons_copy['pred-model-cov'] = 'Cycas Consensus'\n",
    "df_cons_copy['pred-read-cov'] = 'Cycas Consensus'\n",
    "print(f'original shape of cons: {df_cons_copy.shape}')\n",
    "print(f'original shape of pred: {df_pred.shape}')\n",
    "\n",
    "print(list(df_cons_copy.columns))\n",
    "print(list(df_pred.columns))\n",
    "\n",
    "df_cons_small = df_cons_copy[['region_readid', 'pred-model-cov', 'pred-read-cov', 'cons-score', 'cons-YR']]\n",
    "df_pred_small = df_pred[['region_readid', 'pred-model-cov', 'pred-read-cov', 'pred-score']]\n",
    "df_cons_small = df_cons_small.rename(columns={'cons-score': 'score'})\n",
    "df_pred_small = df_pred_small.rename(columns={'pred-score': 'score'})\n",
    "print(df_cons_small.shape)\n",
    "print(df_pred_small.shape)\n",
    "\n",
    "cons_names =  df_cons_small['region_readid'].tolist()\n",
    "print(f'number of reads in consensus: {len(cons_names)}')\n",
    "print(f'number of unique reads in consensus: {len(set(cons_names))}')\n",
    "pred_names =  df_pred_small['region_readid'].tolist()\n",
    "print(f'number of reads in prediction: {len(pred_names)}')\n",
    "print(f'number of unique reads in prediction: {len(set(pred_names))}')\n",
    "\n",
    "df_cons_select = df_cons_small[df_cons_small['region_readid'].isin(pred_names)]\n",
    "print(df_cons_select.shape)\n",
    "\n",
    "df_pred_select = df_pred_small[df_pred_small['region_readid'].isin(cons_names)]\n",
    "print(df_pred_select.shape)\n",
    "\n",
    "\n",
    "\n",
    "df_concat = pd.concat([df_cons_select, df_pred_select])\n",
    "\n",
    "print(df_concat.shape)\n",
    "print(df_concat.columns)\n",
    "print(df_concat.head())\n",
    "print(df_concat.tail())"
   ]
  },
  {
   "cell_type": "code",
   "execution_count": 6,
   "metadata": {},
   "outputs": [
    {
     "name": "stdout",
     "output_type": "stream",
     "text": [
      "c5 total 399610\n",
      "c10 total 399609\n",
      "c15 total 399605\n",
      "c20 total 399605\n",
      "c100 total 399609\n"
     ]
    }
   ],
   "source": [
    "cov_list = ['c5', 'c10', 'c15', 'c20', 'c100']\n",
    "for cov in cov_list:\n",
    "    # print(cov)\n",
    "    # print('region1', df_pred.loc[(df_pred['region'] == 'region1') & (df_pred['pred-model-cov'] == cov) ].shape[0])\n",
    "    # print('region2', df_pred.loc[(df_pred['region'] == 'region2') & (df_pred['pred-model-cov'] == cov) ].shape[0])\n",
    "    # print('region3', df_pred.loc[(df_pred['region'] == 'region3') & (df_pred['pred-model-cov'] == cov) ].shape[0])\n",
    "    # print('region4', df_pred.loc[(df_pred['region'] == 'region4') & (df_pred['pred-model-cov'] == cov) ].shape[0])\n",
    "    # print('region5', df_pred.loc[(df_pred['region'] == 'region5') & (df_pred['pred-model-cov'] == cov) ].shape[0])\n",
    "    # print('region unknown', df_pred.loc[(df_pred['region'] == 'region_unknown') & (df_pred['pred-model-cov'] == cov) ].shape[0])\n",
    "    print(cov, 'total',  df_pred.loc[ (df_pred['pred-model-cov'] == cov) ].shape[0])"
   ]
  },
  {
   "cell_type": "code",
   "execution_count": 47,
   "metadata": {},
   "outputs": [
    {
     "name": "stdout",
     "output_type": "stream",
     "text": [
      "c5\n",
      "(399610, 10)\n",
      "(381354, 18)\n",
      "c10\n",
      "(399609, 10)\n",
      "(381354, 18)\n",
      "c15\n",
      "(399605, 10)\n",
      "(381354, 18)\n",
      "c20\n",
      "(399605, 10)\n",
      "(381353, 18)\n",
      "c100\n",
      "(399609, 10)\n",
      "(381354, 18)\n",
      "Index(['region', 'cons-readid', 'cons-readid-short', 'cons-NM', 'cons-YM',\n",
      "       'cons-YR', 'cons-align_length', 'cons-cigar', 'cons-score',\n",
      "       'region_readid', 'pred-readid', 'pred-readid-short', 'pred-NM',\n",
      "       'pred-align_length', 'pred-cigar', 'pred-score', 'pred-model-cov',\n",
      "       'pred-read-cov'],\n",
      "      dtype='object')\n"
     ]
    }
   ],
   "source": [
    "print('c5')\n",
    "df_pred_c5 = df_pred[df_pred['pred-model-cov'] == 'c5']\n",
    "print(df_pred_c5.shape)\n",
    "df_merged_c5 = df_cons.merge(df_pred_c5)\n",
    "print(df_merged_c5.shape)\n",
    "\n",
    "print('c10')\n",
    "df_pred_c10 = df_pred[df_pred['pred-model-cov'] == 'c10']\n",
    "print(df_pred_c10.shape)\n",
    "df_merged_c10 = df_cons.merge(df_pred_c10)\n",
    "print(df_merged_c10.shape)\n",
    "\n",
    "print('c15')\n",
    "df_pred_c15 = df_pred[df_pred['pred-model-cov'] == 'c15']\n",
    "print(df_pred_c15.shape)\n",
    "df_merged_c15 = df_cons.merge(df_pred_c15)\n",
    "print(df_merged_c15.shape)\n",
    "\n",
    "print('c20')\n",
    "df_pred_c20 = df_pred[df_pred['pred-model-cov'] == 'c20']\n",
    "print(df_pred_c20.shape)\n",
    "df_merged_c20 = df_cons.merge(df_pred_c20)\n",
    "print(df_merged_c20.shape)\n",
    "\n",
    "print('c100')\n",
    "df_pred_c100 = df_pred[df_pred['pred-model-cov'] == 'c100']\n",
    "print(df_pred_c100.shape)\n",
    "df_merged_c100 = df_cons.merge(df_pred_c100)\n",
    "print(df_merged_c100.shape)\n",
    "print(df_merged_c100.columns)"
   ]
  },
  {
   "cell_type": "code",
   "execution_count": 8,
   "metadata": {},
   "outputs": [
    {
     "name": "stdout",
     "output_type": "stream",
     "text": [
      "['region', 'region_readid', 'pred-readid', 'pred-readid-short', 'pred-NM', 'pred-align_length', 'pred-cigar', 'pred-score', 'pred-model-cov', 'pred-read-cov']\n"
     ]
    }
   ],
   "source": [
    "print(list(df_pred.columns))"
   ]
  },
  {
   "cell_type": "code",
   "execution_count": 39,
   "metadata": {},
   "outputs": [
    {
     "data": {
      "text/plain": [
       "<Figure size 432x288 with 0 Axes>"
      ]
     },
     "metadata": {},
     "output_type": "display_data"
    },
    {
     "data": {
      "image/png": "[encoded data removed]",
      "text/plain": [
       "<Figure size 842.4x595.44 with 1 Axes>"
      ]
     },
     "metadata": {
      "needs_background": "light"
     },
     "output_type": "display_data"
    }
   ],
   "source": [
    "coverage = ['3X','4X','5X','6X','7X','8X','9X','10X','11X','12X','13X','14X','15X','16X','17X','18X','19X','20X','20+X']\n",
    "\n",
    "plt.figure(1)\n",
    "a4_dims = (11.7, 8.27)\n",
    "fig, ax = plt.subplots(figsize=a4_dims)\n",
    "sns.barplot(data=df_pred, x='pred-read-cov', hue='pred-model-cov', y ='pred-score', order=coverage)\n",
    "plt.show()\n",
    "\n"
   ]
  },
  {
   "cell_type": "code",
   "execution_count": 40,
   "metadata": {},
   "outputs": [
    {
     "data": {
      "text/plain": [
       "<Figure size 432x288 with 0 Axes>"
      ]
     },
     "metadata": {},
     "output_type": "display_data"
    },
    {
     "data": {
      "image/png": "[encoded data removed]",
      "text/plain": [
       "<Figure size 1202.4x595.44 with 1 Axes>"
      ]
     },
     "metadata": {
      "needs_background": "light"
     },
     "output_type": "display_data"
    }
   ],
   "source": [
    "coverage = ['Cycas Consensus', '3X','4X','5X','6X','7X','8X','9X','10X','11X','12X','13X','14X','15X','16X','17X','18X','19X','20X','20+X']\n",
    "hue_order = ['Cycas Consensus', 'c5', 'c10', 'c15', 'c20', 'c100']\n",
    "\n",
    "plt.figure(2)\n",
    "a4_dims = (16.7, 8.27)\n",
    "fig, ax = plt.subplots(figsize=a4_dims)\n",
    "sns.barplot(data=df_concat, x='pred-read-cov', hue='pred-model-cov', y ='score', order=coverage, hue_order=hue_order)\n",
    "plt.show()"
   ]
  },
  {
   "cell_type": "code",
   "execution_count": 42,
   "metadata": {},
   "outputs": [
    {
     "name": "stdout",
     "output_type": "stream",
     "text": [
      "Index(['region_readid', 'pred-model-cov', 'pred-read-cov', 'score', 'cons-YR'], dtype='object')\n",
      "                                  region_readid   pred-model-cov  \\\n",
      "1  region1_e911b4cc-7239-528c-af99-502c7e6a2bba  Cycas Consensus   \n",
      "\n",
      "     pred-read-cov     score cons-YR  \n",
      "1  Cycas Consensus  0.009524       F  \n"
     ]
    },
    {
     "data": {
      "text/plain": [
       "<Figure size 432x288 with 0 Axes>"
      ]
     },
     "metadata": {},
     "output_type": "display_data"
    },
    {
     "data": {
      "image/png": "[encoded data removed]",
      "text/plain": [
       "<Figure size 432x288 with 1 Axes>"
      ]
     },
     "metadata": {
      "needs_background": "light"
     },
     "output_type": "display_data"
    }
   ],
   "source": [
    "print(df_concat.columns)\n",
    "print(df_concat.head(1))\n",
    "column_order = ['Cycas Consensus', 'c5', 'c10', 'c15', 'c20', 'c100']\n",
    "plt.figure(3)\n",
    "a4_dims = (16.7, 8.27)\n",
    "fig, ax = plt.subplots()    # figsize=a4_dims\n",
    "sns.barplot(data=df_concat, x='pred-model-cov', y ='score', order=column_order)\n",
    "plt.show()"
   ]
  },
  {
   "cell_type": "code",
   "execution_count": 46,
   "metadata": {},
   "outputs": [
    {
     "name": "stdout",
     "output_type": "stream",
     "text": [
      "2277005\n",
      "Index(['region_readid', 'pred-model-cov', 'pred-read-cov', 'score', 'cons-YR'], dtype='object')\n",
      "379501\n",
      "379501\n",
      "379501\n",
      "379501\n",
      "379500\n",
      "379501\n",
      "2277005\n"
     ]
    },
    {
     "ename": "TypeError",
     "evalue": "Must pass list-like as `names`.",
     "output_type": "error",
     "traceback": [
      "\u001b[0;31m---------------------------------------------------------------------------\u001b[0m",
      "\u001b[0;31mTypeError\u001b[0m                                 Traceback (most recent call last)",
      "\u001b[1;32m/hpc/compgen/projects/gw_cfdna/snv_qs/nanopore-wgs/scripts/cyclomics_clean_predict_maskedrefbase/analyse_perread/analyse_perread.ipynb Cell 12\u001b[0m in \u001b[0;36m<cell line: 20>\u001b[0;34m()\u001b[0m\n\u001b[1;32m     <a href='vscode-notebook-cell://ssh-remote%2Bhpc04/hpc/compgen/projects/gw_cfdna/snv_qs/nanopore-wgs/scripts/cyclomics_clean_predict_maskedrefbase/analyse_perread/analyse_perread.ipynb#X14sdnNjb2RlLXJlbW90ZQ%3D%3D?line=12'>13</a>\u001b[0m \u001b[39mprint\u001b[39m(\u001b[39mlen\u001b[39m(df_concat[\u001b[39m'\u001b[39m\u001b[39mregion_readid\u001b[39m\u001b[39m'\u001b[39m]))\n\u001b[1;32m     <a href='vscode-notebook-cell://ssh-remote%2Bhpc04/hpc/compgen/projects/gw_cfdna/snv_qs/nanopore-wgs/scripts/cyclomics_clean_predict_maskedrefbase/analyse_perread/analyse_perread.ipynb#X14sdnNjb2RlLXJlbW90ZQ%3D%3D?line=15'>16</a>\u001b[0m \u001b[39m# l = list(df_concat['region_readid'])\u001b[39;00m\n\u001b[1;32m     <a href='vscode-notebook-cell://ssh-remote%2Bhpc04/hpc/compgen/projects/gw_cfdna/snv_qs/nanopore-wgs/scripts/cyclomics_clean_predict_maskedrefbase/analyse_perread/analyse_perread.ipynb#X14sdnNjb2RlLXJlbW90ZQ%3D%3D?line=16'>17</a>\u001b[0m \u001b[39m# print(len(l))\u001b[39;00m\n\u001b[1;32m     <a href='vscode-notebook-cell://ssh-remote%2Bhpc04/hpc/compgen/projects/gw_cfdna/snv_qs/nanopore-wgs/scripts/cyclomics_clean_predict_maskedrefbase/analyse_perread/analyse_perread.ipynb#X14sdnNjb2RlLXJlbW90ZQ%3D%3D?line=17'>18</a>\u001b[0m \u001b[39m# print(len(set(l)))\u001b[39;00m\n\u001b[0;32m---> <a href='vscode-notebook-cell://ssh-remote%2Bhpc04/hpc/compgen/projects/gw_cfdna/snv_qs/nanopore-wgs/scripts/cyclomics_clean_predict_maskedrefbase/analyse_perread/analyse_perread.ipynb#X14sdnNjb2RlLXJlbW90ZQ%3D%3D?line=19'>20</a>\u001b[0m df_pivot \u001b[39m=\u001b[39m df_concat\u001b[39m.\u001b[39;49mpivot(index\u001b[39m=\u001b[39;49m\u001b[39m'\u001b[39;49m\u001b[39mregion_readid\u001b[39;49m\u001b[39m'\u001b[39;49m, columns\u001b[39m=\u001b[39;49m[\u001b[39m'\u001b[39;49m\u001b[39mpred-model-cov\u001b[39;49m\u001b[39m'\u001b[39;49m], values\u001b[39m=\u001b[39;49m[\u001b[39m'\u001b[39;49m\u001b[39mscore\u001b[39;49m\u001b[39m'\u001b[39;49m])\u001b[39m.\u001b[39;49mreset_index()\u001b[39m.\u001b[39;49mrename_axis(\u001b[39mNone\u001b[39;49;00m, axis\u001b[39m=\u001b[39;49m\u001b[39m1\u001b[39;49m)\n\u001b[1;32m     <a href='vscode-notebook-cell://ssh-remote%2Bhpc04/hpc/compgen/projects/gw_cfdna/snv_qs/nanopore-wgs/scripts/cyclomics_clean_predict_maskedrefbase/analyse_perread/analyse_perread.ipynb#X14sdnNjb2RlLXJlbW90ZQ%3D%3D?line=20'>21</a>\u001b[0m \u001b[39mprint\u001b[39m(df_pivot\u001b[39m.\u001b[39mhead(\u001b[39m1\u001b[39m))\n\u001b[1;32m     <a href='vscode-notebook-cell://ssh-remote%2Bhpc04/hpc/compgen/projects/gw_cfdna/snv_qs/nanopore-wgs/scripts/cyclomics_clean_predict_maskedrefbase/analyse_perread/analyse_perread.ipynb#X14sdnNjb2RlLXJlbW90ZQ%3D%3D?line=22'>23</a>\u001b[0m \u001b[39mprint\u001b[39m(df_pivot\u001b[39m.\u001b[39mcolumns)\n",
      "File \u001b[0;32m/hpc/compgen/users/idenhond/miniconda/envs/nanopore_snv/lib/python3.8/site-packages/pandas/util/_decorators.py:324\u001b[0m, in \u001b[0;36mrewrite_axis_style_signature.<locals>.decorate.<locals>.wrapper\u001b[0;34m(*args, **kwargs)\u001b[0m\n\u001b[1;32m    322\u001b[0m \u001b[39m@wraps\u001b[39m(func)\n\u001b[1;32m    323\u001b[0m \u001b[39mdef\u001b[39;00m \u001b[39mwrapper\u001b[39m(\u001b[39m*\u001b[39margs, \u001b[39m*\u001b[39m\u001b[39m*\u001b[39mkwargs) \u001b[39m-\u001b[39m\u001b[39m>\u001b[39m Callable[\u001b[39m.\u001b[39m\u001b[39m.\u001b[39m\u001b[39m.\u001b[39m, Any]:\n\u001b[0;32m--> 324\u001b[0m     \u001b[39mreturn\u001b[39;00m func(\u001b[39m*\u001b[39;49margs, \u001b[39m*\u001b[39;49m\u001b[39m*\u001b[39;49mkwargs)\n",
      "File \u001b[0;32m/hpc/compgen/users/idenhond/miniconda/envs/nanopore_snv/lib/python3.8/site-packages/pandas/core/generic.py:1313\u001b[0m, in \u001b[0;36mNDFrame.rename_axis\u001b[0;34m(self, mapper, **kwargs)\u001b[0m\n\u001b[1;32m   1309\u001b[0m non_mapper \u001b[39m=\u001b[39m is_scalar(mapper) \u001b[39mor\u001b[39;00m (\n\u001b[1;32m   1310\u001b[0m     is_list_like(mapper) \u001b[39mand\u001b[39;00m \u001b[39mnot\u001b[39;00m is_dict_like(mapper)\n\u001b[1;32m   1311\u001b[0m )\n\u001b[1;32m   1312\u001b[0m \u001b[39mif\u001b[39;00m non_mapper:\n\u001b[0;32m-> 1313\u001b[0m     \u001b[39mreturn\u001b[39;00m \u001b[39mself\u001b[39;49m\u001b[39m.\u001b[39;49m_set_axis_name(mapper, axis\u001b[39m=\u001b[39;49maxis, inplace\u001b[39m=\u001b[39;49minplace)\n\u001b[1;32m   1314\u001b[0m \u001b[39melse\u001b[39;00m:\n\u001b[1;32m   1315\u001b[0m     \u001b[39mraise\u001b[39;00m \u001b[39mValueError\u001b[39;00m(\u001b[39m\"\u001b[39m\u001b[39mUse `.rename` to alter labels with a mapper.\u001b[39m\u001b[39m\"\u001b[39m)\n",
      "File \u001b[0;32m/hpc/compgen/users/idenhond/miniconda/envs/nanopore_snv/lib/python3.8/site-packages/pandas/core/generic.py:1388\u001b[0m, in \u001b[0;36mNDFrame._set_axis_name\u001b[0;34m(self, name, axis, inplace)\u001b[0m\n\u001b[1;32m   1338\u001b[0m \u001b[39m\"\"\"\u001b[39;00m\n\u001b[1;32m   1339\u001b[0m \u001b[39mSet the name(s) of the axis.\u001b[39;00m\n\u001b[1;32m   1340\u001b[0m \n\u001b[0;32m   (...)\u001b[0m\n\u001b[1;32m   1385\u001b[0m \u001b[39m       monkey     2\u001b[39;00m\n\u001b[1;32m   1386\u001b[0m \u001b[39m\"\"\"\u001b[39;00m\n\u001b[1;32m   1387\u001b[0m axis \u001b[39m=\u001b[39m \u001b[39mself\u001b[39m\u001b[39m.\u001b[39m_get_axis_number(axis)\n\u001b[0;32m-> 1388\u001b[0m idx \u001b[39m=\u001b[39m \u001b[39mself\u001b[39;49m\u001b[39m.\u001b[39;49m_get_axis(axis)\u001b[39m.\u001b[39;49mset_names(name)\n\u001b[1;32m   1390\u001b[0m inplace \u001b[39m=\u001b[39m validate_bool_kwarg(inplace, \u001b[39m\"\u001b[39m\u001b[39minplace\u001b[39m\u001b[39m\"\u001b[39m)\n\u001b[1;32m   1391\u001b[0m renamed \u001b[39m=\u001b[39m \u001b[39mself\u001b[39m \u001b[39mif\u001b[39;00m inplace \u001b[39melse\u001b[39;00m \u001b[39mself\u001b[39m\u001b[39m.\u001b[39mcopy()\n",
      "File \u001b[0;32m/hpc/compgen/users/idenhond/miniconda/envs/nanopore_snv/lib/python3.8/site-packages/pandas/util/_decorators.py:311\u001b[0m, in \u001b[0;36mdeprecate_nonkeyword_arguments.<locals>.decorate.<locals>.wrapper\u001b[0;34m(*args, **kwargs)\u001b[0m\n\u001b[1;32m    305\u001b[0m \u001b[39mif\u001b[39;00m \u001b[39mlen\u001b[39m(args) \u001b[39m>\u001b[39m num_allow_args:\n\u001b[1;32m    306\u001b[0m     warnings\u001b[39m.\u001b[39mwarn(\n\u001b[1;32m    307\u001b[0m         msg\u001b[39m.\u001b[39mformat(arguments\u001b[39m=\u001b[39marguments),\n\u001b[1;32m    308\u001b[0m         \u001b[39mFutureWarning\u001b[39;00m,\n\u001b[1;32m    309\u001b[0m         stacklevel\u001b[39m=\u001b[39mstacklevel,\n\u001b[1;32m    310\u001b[0m     )\n\u001b[0;32m--> 311\u001b[0m \u001b[39mreturn\u001b[39;00m func(\u001b[39m*\u001b[39;49margs, \u001b[39m*\u001b[39;49m\u001b[39m*\u001b[39;49mkwargs)\n",
      "File \u001b[0;32m/hpc/compgen/users/idenhond/miniconda/envs/nanopore_snv/lib/python3.8/site-packages/pandas/core/indexes/multi.py:3815\u001b[0m, in \u001b[0;36mMultiIndex.set_names\u001b[0;34m(self, names, level, inplace)\u001b[0m\n\u001b[1;32m   3813\u001b[0m \u001b[39m@deprecate_nonkeyword_arguments\u001b[39m(version\u001b[39m=\u001b[39m\u001b[39mNone\u001b[39;00m, allowed_args\u001b[39m=\u001b[39m[\u001b[39m\"\u001b[39m\u001b[39mself\u001b[39m\u001b[39m\"\u001b[39m, \u001b[39m\"\u001b[39m\u001b[39mnames\u001b[39m\u001b[39m\"\u001b[39m])\n\u001b[1;32m   3814\u001b[0m \u001b[39mdef\u001b[39;00m \u001b[39mset_names\u001b[39m(\u001b[39mself\u001b[39m, names, level\u001b[39m=\u001b[39m\u001b[39mNone\u001b[39;00m, inplace: \u001b[39mbool\u001b[39m \u001b[39m=\u001b[39m \u001b[39mFalse\u001b[39;00m) \u001b[39m-\u001b[39m\u001b[39m>\u001b[39m MultiIndex \u001b[39m|\u001b[39m \u001b[39mNone\u001b[39;00m:\n\u001b[0;32m-> 3815\u001b[0m     \u001b[39mreturn\u001b[39;00m \u001b[39msuper\u001b[39;49m()\u001b[39m.\u001b[39;49mset_names(names\u001b[39m=\u001b[39;49mnames, level\u001b[39m=\u001b[39;49mlevel, inplace\u001b[39m=\u001b[39;49minplace)\n",
      "File \u001b[0;32m/hpc/compgen/users/idenhond/miniconda/envs/nanopore_snv/lib/python3.8/site-packages/pandas/util/_decorators.py:311\u001b[0m, in \u001b[0;36mdeprecate_nonkeyword_arguments.<locals>.decorate.<locals>.wrapper\u001b[0;34m(*args, **kwargs)\u001b[0m\n\u001b[1;32m    305\u001b[0m \u001b[39mif\u001b[39;00m \u001b[39mlen\u001b[39m(args) \u001b[39m>\u001b[39m num_allow_args:\n\u001b[1;32m    306\u001b[0m     warnings\u001b[39m.\u001b[39mwarn(\n\u001b[1;32m    307\u001b[0m         msg\u001b[39m.\u001b[39mformat(arguments\u001b[39m=\u001b[39marguments),\n\u001b[1;32m    308\u001b[0m         \u001b[39mFutureWarning\u001b[39;00m,\n\u001b[1;32m    309\u001b[0m         stacklevel\u001b[39m=\u001b[39mstacklevel,\n\u001b[1;32m    310\u001b[0m     )\n\u001b[0;32m--> 311\u001b[0m \u001b[39mreturn\u001b[39;00m func(\u001b[39m*\u001b[39;49margs, \u001b[39m*\u001b[39;49m\u001b[39m*\u001b[39;49mkwargs)\n",
      "File \u001b[0;32m/hpc/compgen/users/idenhond/miniconda/envs/nanopore_snv/lib/python3.8/site-packages/pandas/core/indexes/base.py:1813\u001b[0m, in \u001b[0;36mIndex.set_names\u001b[0;34m(self, names, level, inplace)\u001b[0m\n\u001b[1;32m   1810\u001b[0m     \u001b[39mraise\u001b[39;00m \u001b[39mTypeError\u001b[39;00m(\u001b[39m\"\u001b[39m\u001b[39mNames must be a string when a single level is provided.\u001b[39m\u001b[39m\"\u001b[39m)\n\u001b[1;32m   1812\u001b[0m \u001b[39melif\u001b[39;00m \u001b[39mnot\u001b[39;00m is_list_like(names) \u001b[39mand\u001b[39;00m level \u001b[39mis\u001b[39;00m \u001b[39mNone\u001b[39;00m \u001b[39mand\u001b[39;00m \u001b[39mself\u001b[39m\u001b[39m.\u001b[39mnlevels \u001b[39m>\u001b[39m \u001b[39m1\u001b[39m:\n\u001b[0;32m-> 1813\u001b[0m     \u001b[39mraise\u001b[39;00m \u001b[39mTypeError\u001b[39;00m(\u001b[39m\"\u001b[39m\u001b[39mMust pass list-like as `names`.\u001b[39m\u001b[39m\"\u001b[39m)\n\u001b[1;32m   1815\u001b[0m \u001b[39melif\u001b[39;00m is_dict_like(names) \u001b[39mand\u001b[39;00m \u001b[39mnot\u001b[39;00m \u001b[39misinstance\u001b[39m(\u001b[39mself\u001b[39m, ABCMultiIndex):\n\u001b[1;32m   1816\u001b[0m     \u001b[39mraise\u001b[39;00m \u001b[39mTypeError\u001b[39;00m(\u001b[39m\"\u001b[39m\u001b[39mCan only pass dict-like as `names` for MultiIndex.\u001b[39m\u001b[39m\"\u001b[39m)\n",
      "\u001b[0;31mTypeError\u001b[0m: Must pass list-like as `names`."
     ]
    }
   ],
   "source": [
    "\n",
    "l = list(df_concat['region_readid'])\n",
    "print(len(l))\n",
    "# print(len(set(l)))\n",
    "print(df_concat.columns)\n",
    "\n",
    "df_concat = df_concat.drop_duplicates(['region_readid', 'pred-model-cov'])\n",
    "print(len(df_concat[df_concat['pred-model-cov']=='Cycas Consensus']['region_readid']))\n",
    "print(len(df_concat[df_concat['pred-model-cov']=='c5']['region_readid']))\n",
    "print(len(df_concat[df_concat['pred-model-cov']=='c10']['region_readid']))\n",
    "print(len(df_concat[df_concat['pred-model-cov']=='c15']['region_readid']))\n",
    "print(len(df_concat[df_concat['pred-model-cov']=='c20']['region_readid']))\n",
    "print(len(df_concat[df_concat['pred-model-cov']=='c100']['region_readid']))\n",
    "print(len(df_concat['region_readid']))\n",
    "\n",
    "\n",
    "# l = list(df_concat['region_readid'])\n",
    "# print(len(l))\n",
    "# print(len(set(l)))\n",
    "\n",
    "df_pivot = df_concat.pivot(index='region_readid', columns=['pred-model-cov'], values=['score']).reset_index().rename_axis(None, axis=1)\n",
    "print(df_pivot.head(1))\n",
    "\n",
    "print(df_pivot.columns)\n",
    "\n",
    "print(len(df_pivot['Cycas Consensus']))\n",
    "print(len(df_pivot['c5']))\n",
    "print(len(df_pivot['c10']))\n",
    "print(len(df_pivot['c15']))\n",
    "print(len(df_pivot['c20']))\n",
    "print(len(df_pivot['c100']))\n",
    "\n",
    "# # print(df_pivot[df_pivot['c20'].apply(lambda x: not isfloat(x))])\n",
    "\n",
    "# print(f'shapiro test to test normality distribution for consensus scores: {stats.shapiro(df_pivot[\"Cycas Consensus\"])}')    # this value is lower than 0.05 = significant = there is no normal distribution\n",
    "# print(f'shapiro test to test normality distribution for prediction scores: {stats.shapiro(df_pivot[\"c5\"])}') \n",
    "# print(f'shapiro test to test normality distribution for prediction scores: {stats.shapiro(df_pivot[\"c10\"])}') \n",
    "# print(f'shapiro test to test normality distribution for prediction scores: {stats.shapiro(df_pivot[\"c15\"])}') \n",
    "# print(f'shapiro test to test normality distribution for prediction scores: {stats.shapiro(df_pivot[\"c20\"])}') \n",
    "# print(f'shapiro test to test normality distribution for prediction scores: {stats.shapiro(df_pivot[\"c100\"])}') \n",
    "\n",
    "# column_order = ['Cycas Consensus', 'c5', 'c10', 'c15', 'c20', 'c100']\n",
    "\n",
    "# plt.figure(5)\n",
    "# ax = sns.boxplot(data=df_concat, x='pred-model-cov', y ='score', order=column_order)\n",
    "# add_stat_annotation(ax, data=df_concat, x='pred-model-cov', y ='score', box_pairs = [('Cycas Consensus', 'c5')], test='Wilcoxon', text_format='simple', loc='outside', order=column_order)\n",
    "# plt.show()\n",
    "\n",
    "\n",
    "\n",
    "# print(stats.wilcoxon(df_merged['pred-score'], df_merged['cons-score']))\n",
    "\n",
    "# for col in df_pivot.columns:\n",
    "#     print(col, df_pivot[col].mean())\n"
   ]
  }
 ],
 "metadata": {
  "kernelspec": {
   "display_name": "Python 3 (ipykernel)",
   "language": "python",
   "name": "python3"
  },
  "orig_nbformat": 4
 },
 "nbformat": 4,
 "nbformat_minor": 2
}
