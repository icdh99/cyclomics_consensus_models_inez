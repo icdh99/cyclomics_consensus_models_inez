{
 "cells": [
  {
   "cell_type": "code",
   "execution_count": 1,
   "metadata": {},
   "outputs": [],
   "source": [
    "import pandas as pd\n",
    "import matplotlib.pyplot as plt\n",
    "import seaborn as sns\n",
    "from statannot import add_stat_annotation\n",
    "import scipy\n",
    "from scipy import stats"
   ]
  },
  {
   "cell_type": "code",
   "execution_count": 93,
   "metadata": {},
   "outputs": [
    {
     "name": "stdout",
     "output_type": "stream",
     "text": [
      "(313772, 6)\n",
      "['region', 'pred-readid', 'pred-NM', 'pred-align_length', 'pred-cigar', 'pred-score']\n"
     ]
    }
   ],
   "source": [
    "df_pred = pd.read_csv('/hpc/compgen/projects/gw_cfdna/snv_qs/predict_cyclclean_with_lambdamodel/cycl_clean_predictions_scoreperread/cycl_predictions_properties_per_read.csv')\n",
    "print(df_pred.shape)\n",
    "print(list(df_pred.columns))"
   ]
  },
  {
   "cell_type": "code",
   "execution_count": 94,
   "metadata": {},
   "outputs": [
    {
     "name": "stdout",
     "output_type": "stream",
     "text": [
      "(443133, 9)\n",
      "['region', 'cons-readid', 'cons-readid-short', 'cons-NM', 'cons-YM', 'cons-YR', 'cons-align_length', 'cons-cigar', 'cons-score']\n",
      "[423880, 9]\n"
     ]
    }
   ],
   "source": [
    "df_cons = pd.read_csv('/hpc/compgen/projects/gw_cfdna/snv_qs/predict_cyclclean_with_lambdamodel/cycl_clean_consensus_scoreperread/cycl_clean_consensus_properties_per_read.csv')\n",
    "# here, reads only with YM tag are in this csv\n",
    "print(df_cons.shape)\n",
    "print(list(df_cons.columns))\n",
    "df_cons = df_cons[df_cons.region != 'region1' ]\n",
    "print(list(df_cons.shape))"
   ]
  },
  {
   "cell_type": "code",
   "execution_count": 95,
   "metadata": {},
   "outputs": [
    {
     "data": {
      "image/png": "[encoded data removed]",
      "text/plain": [
       "<Figure size 842.4x595.44 with 1 Axes>"
      ]
     },
     "metadata": {},
     "output_type": "display_data"
    }
   ],
   "source": [
    "scores_pred = df_pred['pred-score']\n",
    "scores_cons = df_cons['cons-score']\n",
    "sns.histplot(data=[scores_pred, scores_cons], binwidth=0.001)\n",
    "plt.show()"
   ]
  },
  {
   "cell_type": "code",
   "execution_count": 5,
   "metadata": {},
   "outputs": [
    {
     "name": "stdout",
     "output_type": "stream",
     "text": [
      "['region', 'cons-readid', 'cons-readid-short', 'cons-NM', 'cons-YM', 'cons-YR', 'cons-align_length', 'cons-cigar', 'cons-score', 'region_readid']\n",
      "['region', 'pred-readid', 'pred-NM', 'pred-align_length', 'pred-cigar', 'pred-score', 'region_readid']\n"
     ]
    }
   ],
   "source": [
    "df_cons['region_readid'] = df_cons['region'] + '_' + df_cons['cons-readid-short']\n",
    "df_pred['region_readid'] = df_pred['region'] + '_' + df_pred['pred-readid']\n",
    "\n",
    "print(list(df_cons.columns))\n",
    "print(list(df_pred.columns))"
   ]
  },
  {
   "cell_type": "code",
   "execution_count": 10,
   "metadata": {},
   "outputs": [
    {
     "name": "stdout",
     "output_type": "stream",
     "text": [
      "['region_x', 'cons-readid', 'cons-readid-short', 'cons-NM', 'cons-YM', 'cons-YR', 'cons-align_length', 'cons-cigar', 'cons-score', 'region_readid', 'region_y', 'pred-readid', 'pred-NM', 'pred-align_length', 'pred-cigar', 'pred-score']\n",
      "(423880, 10)\n",
      "0.0022272146922949283\n",
      "(313772, 7)\n",
      "0.0014008562547891997\n",
      "(300123, 16)\n",
      "0.0013823200889477134\n",
      "0.0019200648852226423\n"
     ]
    }
   ],
   "source": [
    "df_merged = df_cons.merge(df_pred, on='region_readid')\n",
    "print(list(df_merged.columns))\n",
    "\n",
    "print(df_cons.shape)\n",
    "print(df_cons['cons-score'].mean())\n",
    "print(df_pred.shape)\n",
    "print(df_pred['pred-score'].mean())\n",
    "print(df_merged.shape)\n",
    "\n",
    "print(df_merged['pred-score'].mean())\n",
    "print(df_merged['cons-score'].mean())\n"
   ]
  },
  {
   "cell_type": "code",
   "execution_count": 9,
   "metadata": {},
   "outputs": [
    {
     "name": "stdout",
     "output_type": "stream",
     "text": [
      "consensus intersect shape:  (300123, 2)\n",
      "prediction intersect shape:  (300123, 2)\n",
      "joined df shape:  (303091, 3)\n",
      "['region_readid', 'score', 'type']\n",
      "(300123, 3)\n",
      "['region_readid', 'score', 'type']\n",
      "(300123, 3)\n",
      "(600246, 3)\n",
      "['region_readid', 'score', 'type']\n",
      "(300123, 3)\n",
      "(300123, 3)\n",
      "         score\n",
      "type          \n",
      "cons  0.001920\n",
      "pred  0.001382\n"
     ]
    }
   ],
   "source": [
    "df_cons_new = df_cons[['region_readid', 'cons-score']]  # select only two columns for a smaller dataframe\n",
    "df_pred_new = df_pred[['region_readid', 'pred-score']]\n",
    "\n",
    "df_cons_intersect = pd.merge(df_cons_new, df_pred_new[\"region_readid\"], how = \"inner\")  # subset dataframe to only region_readid values that occur in other dataframe as well\n",
    "print('consensus intersect shape: ', df_cons_intersect.shape)\n",
    "df_pred_intersect = pd.merge(df_pred_new, df_cons_new[\"region_readid\"], how = \"inner\")\n",
    "print('prediction intersect shape: ', df_pred_intersect.shape)\n",
    "\n",
    "df_joined = df_pred_intersect.merge(df_cons_intersect, left_on = 'region_readid', right_on = 'region_readid', how = \"inner\")   # merge dataframes so that for each readid_region, we have both scores\n",
    "\n",
    "print('joined df shape: ', df_joined.shape)\n",
    "\n",
    "# df_joined_nodups = df_joined.drop_duplicates()\n",
    "# df_joined_nodups_readid = df_joined.drop_duplicates(subset='region_readid')\n",
    "\n",
    "# print(len(df_cons_intersect[df_cons_intersect.duplicated()]))\n",
    "# print(len(df_pred_intersect[df_pred_intersect.duplicated()]))\n",
    "# print(len(df_joined_nodups[df_joined_nodups.duplicated()]))\n",
    "# print(len(df_joined_nodups_readid[df_joined_nodups_readid.duplicated()]))\n",
    "# print('unique region_read ids in joined df with duplicates removed: ',len(df_joined_nodups[\"region_readid\"].unique()))\n",
    "\n",
    "df_cons_intersect['type'] = 'cons'\n",
    "df_pred_intersect['type'] = 'pred'\n",
    "\n",
    "df_cons_intersect = df_cons_intersect.rename(columns = {'cons-score':'score'})\n",
    "print(list(df_cons_intersect.columns))\n",
    "print(df_cons_intersect.shape)\n",
    "df_pred_intersect = df_pred_intersect.rename(columns = {'pred-score':'score'})\n",
    "print(list(df_pred_intersect.columns))\n",
    "print(df_pred_intersect.shape)\n",
    "\n",
    "df_concat = pd.concat([df_cons_intersect, df_pred_intersect])\n",
    "print(df_concat.shape)\n",
    "print(list(df_concat.columns))\n",
    "# print(df_concat.head)\n",
    "print(df_concat.loc[df_concat['type'] == 'cons'].shape)\n",
    "print(df_concat.loc[df_concat['type'] == 'pred'].shape)\n",
    "print(df_concat.groupby('type').mean())"
   ]
  },
  {
   "cell_type": "code",
   "execution_count": 186,
   "metadata": {},
   "outputs": [
    {
     "name": "stdout",
     "output_type": "stream",
     "text": [
      "                                       region_readid     score  type\n",
      "0       region2_5d8d32d1-7f72-4993-91b1-ed2441cbe0ca  0.007812  cons\n",
      "1       region2_9b2b858d-3230-4928-b20d-874923f4fb14  0.007634  cons\n",
      "2       region2_02ac6e90-8ae1-4b29-9ff3-164249badfce  0.007812  cons\n",
      "3       region2_7652442c-45bd-5414-85d3-31384663c116  0.000000  cons\n",
      "4       region2_554423fc-024b-5a8c-a6b9-e1f44e689c7f  0.007937  cons\n",
      "...                                              ...       ...   ...\n",
      "300118  region5_ecae0154-9a02-5531-bd22-903032b044ad  0.000000  pred\n",
      "300119  region5_ad604060-c124-5fdb-9aa5-2bdde5518b66  0.000000  pred\n",
      "300120  region5_01fc617a-7028-5428-962e-d971f47a7343  0.000000  pred\n",
      "300121  region5_ff87abd2-5bb0-4592-affb-4db674942638  0.000000  pred\n",
      "300122  region5_b7ddf53f-608b-4c43-8fa5-67a62ba7a769  0.000000  pred\n",
      "\n",
      "[600246 rows x 3 columns]\n",
      "(600246,)\n",
      "(600246,)\n",
      "cons v.s. pred: t-test paired samples with Bonferroni correction, P_val=0.000e+00 stat=4.637e+01\n"
     ]
    },
    {
     "data": {
      "image/png": "[encoded data removed]",
      "text/plain": [
       "<Figure size 576x396 with 1 Axes>"
      ]
     },
     "metadata": {},
     "output_type": "display_data"
    }
   ],
   "source": [
    "\n",
    "df = df_concat\n",
    "print(df)\n",
    "x = 'type'\n",
    "y = 'score'\n",
    "print(df[x].shape)\n",
    "print(df[y].shape)\n",
    "ax = sns.boxplot(data=df, x=x, y=y)\n",
    "add_stat_annotation(ax, data=df, x=x, y=y, box_pairs = [('cons', 'pred')], test='t-test_paired', text_format='simple', loc='outside')\n",
    "plt.show()"
   ]
  },
  {
   "cell_type": "code",
   "execution_count": 15,
   "metadata": {},
   "outputs": [
    {
     "name": "stdout",
     "output_type": "stream",
     "text": [
      "(300123, 16)\n",
      "['region_x', 'cons-readid', 'cons-readid-short', 'cons-NM', 'cons-YM', 'cons-YR', 'cons-align_length', 'cons-cigar', 'cons-score', 'region_readid', 'region_y', 'pred-readid', 'pred-NM', 'pred-align_length', 'pred-cigar', 'pred-score']\n",
      "(600246, 3)\n",
      "shapiro test to test normality distrbution for consensus scores: ShapiroResult(statistic=0.4300832748413086, pvalue=0.0)\n",
      "shapiro test to test normality distrbution for consensus scores: ShapiroResult(statistic=0.39362215995788574, pvalue=0.0)\n",
      "both tests show a p-value < 0.05 so both datasets are not normally distributed. Instead of a paired t-test, we will perform the Wilcoxon Sign-Ranked test\n",
      "Wilcoxon test on merged dataframe:\n",
      "WilcoxonResult(statistic=1040453317.0, pvalue=0.0)\n",
      "0.0013823200889477134\n",
      "0.0019200648852226423\n",
      "         score\n",
      "type          \n",
      "cons  0.001920\n",
      "pred  0.001382\n"
     ]
    },
    {
     "name": "stderr",
     "output_type": "stream",
     "text": [
      "/hpc/compgen/users/idenhond/miniconda/envs/nanopore_snv/lib/python3.8/site-packages/scipy/stats/_morestats.py:1761: UserWarning: p-value may not be accurate for N > 5000.\n",
      "  warnings.warn(\"p-value may not be accurate for N > 5000.\")\n"
     ]
    },
    {
     "name": "stdout",
     "output_type": "stream",
     "text": [
      "Using zero_method  wilcox\n",
      "cons v.s. pred: Wilcoxon test (paired samples) with Bonferroni correction, P_val=4.259e-125 stat=1.881e+09\n"
     ]
    },
    {
     "data": {
      "image/png": "[encoded data removed]",
      "text/plain": [
       "<Figure size 432x288 with 1 Axes>"
      ]
     },
     "metadata": {
      "needs_background": "light"
     },
     "output_type": "display_data"
    }
   ],
   "source": [
    "print(df_merged.shape)\n",
    "print(list(df_merged.columns))\n",
    "\n",
    "print(df_concat.shape)\n",
    "print(f'shapiro test to test normality distrbution for consensus scores: {stats.shapiro(df_merged[\"cons-score\"])}')    # this value is lower than 0.05 = significant = there is no normal distribution\n",
    "print(f'shapiro test to test normality distrbution for consensus scores: {stats.shapiro(df_merged[\"pred-score\"])}')    # this value is lower than 0.05 = significant = there is no normal distribution\n",
    "print('both tests show a p-value < 0.05 so both datasets are not normally distributed. Instead of a paired t-test, we will perform the Wilcoxon Sign-Ranked test')\n",
    "\n",
    "\n",
    "print('Wilcoxon test on merged dataframe:')\n",
    "print(stats.wilcoxon(df_merged['pred-score'], df_merged['cons-score']))\n",
    "print(df_merged['pred-score'].mean())\n",
    "print(df_merged['cons-score'].mean())\n",
    "print(df_concat.groupby('type').mean())\n",
    "\n",
    "plt.figure(4)\n",
    "ax = sns.boxplot(data=df_concat, x='type', y='score')\n",
    "add_stat_annotation(ax, data=df_concat, x='type', y='score', box_pairs = [('cons', 'pred')], test='Wilcoxon', text_format='simple', loc='outside')\n",
    "plt.show()\n"
   ]
  }
 ],
 "metadata": {
  "kernelspec": {
   "display_name": "Python 3 (ipykernel)",
   "language": "python",
   "name": "python3"
  },
  "language_info": {
   "codemirror_mode": {
    "name": "ipython",
    "version": 3
   },
   "file_extension": ".py",
   "mimetype": "text/x-python",
   "name": "python",
   "nbconvert_exporter": "python",
   "pygments_lexer": "ipython3",
   "version": "3.8.12"
  },
  "orig_nbformat": 4,
  "vscode": {
   "interpreter": {
    "hash": "63667074cf473ec7153aa61fd8585d171d121f827d7f482320d45ce3fcd45ab7"
   }
  }
 },
 "nbformat": 4,
 "nbformat_minor": 2
}
